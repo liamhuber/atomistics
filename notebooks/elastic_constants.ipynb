{
 "cells": [
  {
   "cell_type": "code",
   "execution_count": 1,
   "id": "09f1f85c-3154-4a10-b1c3-9191a939b4a0",
   "metadata": {},
   "outputs": [],
   "source": [
    "from ase.build import bulk"
   ]
  },
  {
   "cell_type": "code",
   "execution_count": 2,
   "id": "97364db4-4d32-4d83-a07b-36b70d8d5311",
   "metadata": {},
   "outputs": [],
   "source": [
    "from ase.calculators.emt import EMT"
   ]
  },
  {
   "cell_type": "code",
   "execution_count": 3,
   "id": "a80517fd-cbd4-474c-a958-c651759eaeb1",
   "metadata": {},
   "outputs": [],
   "source": [
    "from atomistics.calculators.ase_interface.calculator import evaluate_with_ase"
   ]
  },
  {
   "cell_type": "code",
   "execution_count": 4,
   "id": "0aa3872d-4703-4713-b368-7637fb7db746",
   "metadata": {},
   "outputs": [],
   "source": [
    "from atomistics.workflows.elastic.workflow import ElasticMatrixWorkflow"
   ]
  },
  {
   "cell_type": "code",
   "execution_count": 5,
   "id": "147424cf-9e55-44ef-ba7e-8d22597a4165",
   "metadata": {},
   "outputs": [],
   "source": [
    "calculator = ElasticMatrixWorkflow(\n",
    "    structure=bulk(\"Al\", a=4.0, cubic=True),\n",
    "    num_of_point=5, \n",
    "    eps_range=0.005, \n",
    "    sqrt_eta=True, \n",
    "    fit_order=2\n",
    ")"
   ]
  },
  {
   "cell_type": "code",
   "execution_count": 6,
   "id": "6a3f7783-f331-41ef-a7c9-5852db1812af",
   "metadata": {},
   "outputs": [],
   "source": [
    "structure_dict = calculator.generate_structures()"
   ]
  },
  {
   "cell_type": "code",
   "execution_count": 7,
   "id": "f6714b82-3698-45ca-984c-983cacf278cc",
   "metadata": {},
   "outputs": [],
   "source": [
    "result_dict = evaluate_with_ase(task_dict=structure_dict, ase_calculator_class=EMT)"
   ]
  },
  {
   "cell_type": "code",
   "execution_count": 8,
   "id": "57a4a5eb-d8d2-455d-84d2-dd45036bc721",
   "metadata": {},
   "outputs": [
    {
     "data": {
      "text/plain": [
       "array([[52.62435421, 32.6743838 , 32.6743838 ,  0.        ,  0.        ,\n",
       "         0.        ],\n",
       "       [32.6743838 , 52.62435421, 32.6743838 ,  0.        ,  0.        ,\n",
       "         0.        ],\n",
       "       [32.6743838 , 32.6743838 , 52.62435421,  0.        ,  0.        ,\n",
       "         0.        ],\n",
       "       [ 0.        ,  0.        ,  0.        , 35.58677436,  0.        ,\n",
       "         0.        ],\n",
       "       [ 0.        ,  0.        ,  0.        ,  0.        , 35.58677436,\n",
       "         0.        ],\n",
       "       [ 0.        ,  0.        ,  0.        ,  0.        ,  0.        ,\n",
       "        35.58677436]])"
      ]
     },
     "execution_count": 8,
     "metadata": {},
     "output_type": "execute_result"
    }
   ],
   "source": [
    "elastic_dict = calculator.analyse_structures(output_dict=result_dict)\n",
    "elastic_dict[\"C\"]"
   ]
  },
  {
   "cell_type": "code",
   "execution_count": null,
   "id": "15898e45-12ca-4255-be8c-e2fe96e1228e",
   "metadata": {},
   "outputs": [],
   "source": []
  }
 ],
 "metadata": {
  "kernelspec": {
   "display_name": "Python 3 (ipykernel)",
   "language": "python",
   "name": "python3"
  },
  "language_info": {
   "codemirror_mode": {
    "name": "ipython",
    "version": 3
   },
   "file_extension": ".py",
   "mimetype": "text/x-python",
   "name": "python",
   "nbconvert_exporter": "python",
   "pygments_lexer": "ipython3",
   "version": "3.10.12"
  }
 },
 "nbformat": 4,
 "nbformat_minor": 5
}
